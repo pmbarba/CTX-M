{
 "cells": [
  {
   "cell_type": "code",
   "execution_count": 4,
   "metadata": {},
   "outputs": [
    {
     "name": "stdout",
     "output_type": "stream",
     "text": [
      "Requirement already satisfied: biopython in /usr/local/python/3.10.4/lib/python3.10/site-packages (1.81)\n",
      "Requirement already satisfied: numpy in /home/codespace/.local/lib/python3.10/site-packages (from biopython) (1.24.2)\n",
      "Requirement already satisfied: reportlab in /usr/local/python/3.10.4/lib/python3.10/site-packages (3.6.12)\n",
      "Requirement already satisfied: pillow>=9.0.0 in /home/codespace/.local/lib/python3.10/site-packages (from reportlab) (9.4.0)\n",
      "Requirement already satisfied: nglview in /usr/local/python/3.10.4/lib/python3.10/site-packages (3.0.3)\n",
      "Requirement already satisfied: ipywidgets>=7 in /usr/local/python/3.10.4/lib/python3.10/site-packages (from nglview) (8.0.6)\n",
      "Requirement already satisfied: jupyterlab-widgets in /usr/local/python/3.10.4/lib/python3.10/site-packages (from nglview) (3.0.7)\n",
      "Requirement already satisfied: numpy in /home/codespace/.local/lib/python3.10/site-packages (from nglview) (1.24.2)\n",
      "Requirement already satisfied: traitlets>=4.3.1 in /home/codespace/.local/lib/python3.10/site-packages (from ipywidgets>=7->nglview) (5.9.0)\n",
      "Requirement already satisfied: ipython>=6.1.0 in /home/codespace/.local/lib/python3.10/site-packages (from ipywidgets>=7->nglview) (8.11.0)\n",
      "Requirement already satisfied: widgetsnbextension~=4.0.7 in /usr/local/python/3.10.4/lib/python3.10/site-packages (from ipywidgets>=7->nglview) (4.0.7)\n",
      "Requirement already satisfied: ipykernel>=4.5.1 in /home/codespace/.local/lib/python3.10/site-packages (from ipywidgets>=7->nglview) (6.21.3)\n",
      "Requirement already satisfied: pyzmq>=20 in /home/codespace/.local/lib/python3.10/site-packages (from ipykernel>=4.5.1->ipywidgets>=7->nglview) (25.0.1)\n",
      "Requirement already satisfied: debugpy>=1.6.5 in /home/codespace/.local/lib/python3.10/site-packages (from ipykernel>=4.5.1->ipywidgets>=7->nglview) (1.6.6)\n",
      "Requirement already satisfied: matplotlib-inline>=0.1 in /home/codespace/.local/lib/python3.10/site-packages (from ipykernel>=4.5.1->ipywidgets>=7->nglview) (0.1.6)\n",
      "Requirement already satisfied: jupyter-core!=5.0.*,>=4.12 in /home/codespace/.local/lib/python3.10/site-packages (from ipykernel>=4.5.1->ipywidgets>=7->nglview) (5.2.0)\n",
      "Requirement already satisfied: jupyter-client>=6.1.12 in /home/codespace/.local/lib/python3.10/site-packages (from ipykernel>=4.5.1->ipywidgets>=7->nglview) (8.0.3)\n",
      "Requirement already satisfied: comm>=0.1.1 in /home/codespace/.local/lib/python3.10/site-packages (from ipykernel>=4.5.1->ipywidgets>=7->nglview) (0.1.2)\n",
      "Requirement already satisfied: nest-asyncio in /home/codespace/.local/lib/python3.10/site-packages (from ipykernel>=4.5.1->ipywidgets>=7->nglview) (1.5.6)\n",
      "Requirement already satisfied: psutil in /home/codespace/.local/lib/python3.10/site-packages (from ipykernel>=4.5.1->ipywidgets>=7->nglview) (5.9.4)\n",
      "Requirement already satisfied: packaging in /home/codespace/.local/lib/python3.10/site-packages (from ipykernel>=4.5.1->ipywidgets>=7->nglview) (23.0)\n",
      "Requirement already satisfied: tornado>=6.1 in /home/codespace/.local/lib/python3.10/site-packages (from ipykernel>=4.5.1->ipywidgets>=7->nglview) (6.2)\n",
      "Requirement already satisfied: decorator in /home/codespace/.local/lib/python3.10/site-packages (from ipython>=6.1.0->ipywidgets>=7->nglview) (5.1.1)\n",
      "Requirement already satisfied: pygments>=2.4.0 in /home/codespace/.local/lib/python3.10/site-packages (from ipython>=6.1.0->ipywidgets>=7->nglview) (2.14.0)\n",
      "Requirement already satisfied: stack-data in /home/codespace/.local/lib/python3.10/site-packages (from ipython>=6.1.0->ipywidgets>=7->nglview) (0.6.2)\n",
      "Requirement already satisfied: backcall in /home/codespace/.local/lib/python3.10/site-packages (from ipython>=6.1.0->ipywidgets>=7->nglview) (0.2.0)\n",
      "Requirement already satisfied: pexpect>4.3 in /home/codespace/.local/lib/python3.10/site-packages (from ipython>=6.1.0->ipywidgets>=7->nglview) (4.8.0)\n",
      "Requirement already satisfied: pickleshare in /home/codespace/.local/lib/python3.10/site-packages (from ipython>=6.1.0->ipywidgets>=7->nglview) (0.7.5)\n",
      "Requirement already satisfied: prompt-toolkit!=3.0.37,<3.1.0,>=3.0.30 in /home/codespace/.local/lib/python3.10/site-packages (from ipython>=6.1.0->ipywidgets>=7->nglview) (3.0.38)\n",
      "Requirement already satisfied: jedi>=0.16 in /home/codespace/.local/lib/python3.10/site-packages (from ipython>=6.1.0->ipywidgets>=7->nglview) (0.18.2)\n",
      "Requirement already satisfied: parso<0.9.0,>=0.8.0 in /home/codespace/.local/lib/python3.10/site-packages (from jedi>=0.16->ipython>=6.1.0->ipywidgets>=7->nglview) (0.8.3)\n",
      "Requirement already satisfied: python-dateutil>=2.8.2 in /home/codespace/.local/lib/python3.10/site-packages (from jupyter-client>=6.1.12->ipykernel>=4.5.1->ipywidgets>=7->nglview) (2.8.2)\n",
      "Requirement already satisfied: platformdirs>=2.5 in /home/codespace/.local/lib/python3.10/site-packages (from jupyter-core!=5.0.*,>=4.12->ipykernel>=4.5.1->ipywidgets>=7->nglview) (3.1.1)\n",
      "Requirement already satisfied: ptyprocess>=0.5 in /home/codespace/.local/lib/python3.10/site-packages (from pexpect>4.3->ipython>=6.1.0->ipywidgets>=7->nglview) (0.7.0)\n",
      "Requirement already satisfied: wcwidth in /home/codespace/.local/lib/python3.10/site-packages (from prompt-toolkit!=3.0.37,<3.1.0,>=3.0.30->ipython>=6.1.0->ipywidgets>=7->nglview) (0.2.6)\n",
      "Requirement already satisfied: asttokens>=2.1.0 in /home/codespace/.local/lib/python3.10/site-packages (from stack-data->ipython>=6.1.0->ipywidgets>=7->nglview) (2.2.1)\n",
      "Requirement already satisfied: pure-eval in /home/codespace/.local/lib/python3.10/site-packages (from stack-data->ipython>=6.1.0->ipywidgets>=7->nglview) (0.2.2)\n",
      "Requirement already satisfied: executing>=1.2.0 in /home/codespace/.local/lib/python3.10/site-packages (from stack-data->ipython>=6.1.0->ipywidgets>=7->nglview) (1.2.0)\n",
      "Requirement already satisfied: six in /home/codespace/.local/lib/python3.10/site-packages (from asttokens>=2.1.0->stack-data->ipython>=6.1.0->ipywidgets>=7->nglview) (1.16.0)\n"
     ]
    }
   ],
   "source": [
    "!pip install biopython\n",
    "!pip install reportlab\n",
    "!pip install nglview"
   ]
  },
  {
   "cell_type": "code",
   "execution_count": 7,
   "metadata": {},
   "outputs": [],
   "source": [
    "import genes\n"
   ]
  },
  {
   "cell_type": "code",
   "execution_count": 8,
   "metadata": {},
   "outputs": [
    {
     "name": "stdout",
     "output_type": "stream",
     "text": [
      "1.81\n"
     ]
    },
    {
     "data": {
      "text/plain": [
       "['Align',\n",
       " 'AlignIO',\n",
       " 'Application',\n",
       " 'BiopythonDeprecationWarning',\n",
       " 'BiopythonExperimentalWarning',\n",
       " 'BiopythonParserWarning',\n",
       " 'BiopythonWarning',\n",
       " 'Data',\n",
       " 'Entrez',\n",
       " 'File',\n",
       " 'GenBank',\n",
       " 'MissingExternalDependencyError',\n",
       " 'MissingPythonDependencyError',\n",
       " 'Nexus',\n",
       " 'Phylo',\n",
       " 'Seq',\n",
       " 'SeqFeature',\n",
       " 'SeqIO',\n",
       " 'SeqRecord',\n",
       " 'Sequencing',\n",
       " 'StreamModeError',\n",
       " 'SwissProt',\n",
       " '__builtins__',\n",
       " '__cached__',\n",
       " '__doc__',\n",
       " '__file__',\n",
       " '__loader__',\n",
       " '__name__',\n",
       " '__package__',\n",
       " '__path__',\n",
       " '__spec__',\n",
       " '__version__',\n",
       " '_parent_dir',\n",
       " 'os',\n",
       " 'warnings']"
      ]
     },
     "execution_count": 8,
     "metadata": {},
     "output_type": "execute_result"
    }
   ],
   "source": [
    "import Bio\n",
    "print(Bio.__version__)\n",
    "dir(Bio)"
   ]
  },
  {
   "cell_type": "code",
   "execution_count": 19,
   "metadata": {},
   "outputs": [],
   "source": [
    "from Bio import Entrez \n",
    "from Bio import SeqIO \n",
    "\n",
    "# Simple fasta en GenBank NCBI\n",
    "\n",
    "def descargar():\n",
    "        \n",
    "     with open('gen1.txt', 'r+') as list:\n",
    "            id_CTX_M_55 = list.readlines()\n",
    "            Entrez.email = \"pmbarba@gmail.com\"\n",
    "            CTX_M_55 = []\n",
    "            for ids in id_CTX_M_55:\n",
    "                 handle = Entrez.efetch(db=\"nucleotide\", id=ids, rettype=\"fasta\", retmode=\"text\")\n",
    "                 secuencias = SeqIO.read(handle, \"fasta\")\n",
    "                 CTX_M_55.append(secuencias)\n",
    "                 SeqIO.write(CTX_M_55, \"gen1.fasta\", \"fasta\")"
   ]
  },
  {
   "cell_type": "code",
   "execution_count": 12,
   "metadata": {},
   "outputs": [],
   "source": [
    "def descargar():\n",
    "\n",
    "    with open('gen2.txt', 'r+') as list:\n",
    "            id_CTX_M_65 = list.readlines()\n",
    "            Entrez.email = \"pmbarba@gmail.com\"\n",
    "            CTX_M_65 = []\n",
    "            for ids in id_CTX_M_65:\n",
    "                 handle = Entrez.efetch(db=\"nucleotide\", id=ids, rettype=\"gb\", retmode=\"text\")\n",
    "                 secuencias = SeqIO.read(handle, \"genbank\")\n",
    "                 CTX_M_65.append(secuencias)\n",
    "                 SeqIO.write(CTX_M_65, \"gen2.gb\", \"genbank\")"
   ]
  },
  {
   "cell_type": "code",
   "execution_count": 15,
   "metadata": {},
   "outputs": [
    {
     "ename": "FileNotFoundError",
     "evalue": "[Errno 2] No such file or directory: 'gen1.gb'",
     "output_type": "error",
     "traceback": [
      "\u001b[0;31m---------------------------------------------------------------------------\u001b[0m",
      "\u001b[0;31mFileNotFoundError\u001b[0m                         Traceback (most recent call last)",
      "Cell \u001b[0;32mIn[15], line 1\u001b[0m\n\u001b[0;32m----> 1\u001b[0m record \u001b[39m=\u001b[39m SeqIO\u001b[39m.\u001b[39;49mread(\u001b[39m\"\u001b[39;49m\u001b[39mgen1.gb\u001b[39;49m\u001b[39m\"\u001b[39;49m, \u001b[39m\"\u001b[39;49m\u001b[39mgenbank\u001b[39;49m\u001b[39m\"\u001b[39;49m)\n\u001b[1;32m      2\u001b[0m \u001b[39mprint\u001b[39m(record)\n\u001b[1;32m      3\u001b[0m \u001b[39mprint\u001b[39m(\u001b[39m\"\u001b[39m\u001b[39m\\n\u001b[39;00m\u001b[39m\\n\u001b[39;00m\u001b[39mIdentificación de la secuencia:\u001b[39m\u001b[39m\"\u001b[39m,record\u001b[39m.\u001b[39mid)\n",
      "File \u001b[0;32m~/.python/current/lib/python3.10/site-packages/Bio/SeqIO/__init__.py:652\u001b[0m, in \u001b[0;36mread\u001b[0;34m(handle, format, alphabet)\u001b[0m\n\u001b[1;32m    612\u001b[0m \u001b[39mdef\u001b[39;00m \u001b[39mread\u001b[39m(handle, \u001b[39mformat\u001b[39m, alphabet\u001b[39m=\u001b[39m\u001b[39mNone\u001b[39;00m):\n\u001b[1;32m    613\u001b[0m \u001b[39m    \u001b[39m\u001b[39m\"\"\"Turn a sequence file into a single SeqRecord.\u001b[39;00m\n\u001b[1;32m    614\u001b[0m \n\u001b[1;32m    615\u001b[0m \u001b[39m    Arguments:\u001b[39;00m\n\u001b[0;32m   (...)\u001b[0m\n\u001b[1;32m    650\u001b[0m \u001b[39m    to read multiple records from the handle.\u001b[39;00m\n\u001b[1;32m    651\u001b[0m \u001b[39m    \"\"\"\u001b[39;00m\n\u001b[0;32m--> 652\u001b[0m     iterator \u001b[39m=\u001b[39m parse(handle, \u001b[39mformat\u001b[39;49m, alphabet)\n\u001b[1;32m    653\u001b[0m     \u001b[39mtry\u001b[39;00m:\n\u001b[1;32m    654\u001b[0m         record \u001b[39m=\u001b[39m \u001b[39mnext\u001b[39m(iterator)\n",
      "File \u001b[0;32m~/.python/current/lib/python3.10/site-packages/Bio/SeqIO/__init__.py:605\u001b[0m, in \u001b[0;36mparse\u001b[0;34m(handle, format, alphabet)\u001b[0m\n\u001b[1;32m    603\u001b[0m iterator_generator \u001b[39m=\u001b[39m _FormatToIterator\u001b[39m.\u001b[39mget(\u001b[39mformat\u001b[39m)\n\u001b[1;32m    604\u001b[0m \u001b[39mif\u001b[39;00m iterator_generator:\n\u001b[0;32m--> 605\u001b[0m     \u001b[39mreturn\u001b[39;00m iterator_generator(handle)\n\u001b[1;32m    606\u001b[0m \u001b[39mif\u001b[39;00m \u001b[39mformat\u001b[39m \u001b[39min\u001b[39;00m AlignIO\u001b[39m.\u001b[39m_FormatToIterator:\n\u001b[1;32m    607\u001b[0m     \u001b[39m# Use Bio.AlignIO to read in the alignments\u001b[39;00m\n\u001b[1;32m    608\u001b[0m     \u001b[39mreturn\u001b[39;00m (r \u001b[39mfor\u001b[39;00m alignment \u001b[39min\u001b[39;00m AlignIO\u001b[39m.\u001b[39mparse(handle, \u001b[39mformat\u001b[39m) \u001b[39mfor\u001b[39;00m r \u001b[39min\u001b[39;00m alignment)\n",
      "File \u001b[0;32m~/.python/current/lib/python3.10/site-packages/Bio/SeqIO/InsdcIO.py:97\u001b[0m, in \u001b[0;36mGenBankIterator.__init__\u001b[0;34m(self, source)\u001b[0m\n\u001b[1;32m     60\u001b[0m \u001b[39mdef\u001b[39;00m \u001b[39m__init__\u001b[39m(\u001b[39mself\u001b[39m, source):\n\u001b[1;32m     61\u001b[0m \u001b[39m    \u001b[39m\u001b[39m\"\"\"Break up a Genbank file into SeqRecord objects.\u001b[39;00m\n\u001b[1;32m     62\u001b[0m \n\u001b[1;32m     63\u001b[0m \u001b[39m    Argument source is a file-like object opened in text mode or a path to a file.\u001b[39;00m\n\u001b[0;32m   (...)\u001b[0m\n\u001b[1;32m     95\u001b[0m \n\u001b[1;32m     96\u001b[0m \u001b[39m    \"\"\"\u001b[39;00m\n\u001b[0;32m---> 97\u001b[0m     \u001b[39msuper\u001b[39;49m()\u001b[39m.\u001b[39;49m\u001b[39m__init__\u001b[39;49m(source, mode\u001b[39m=\u001b[39;49m\u001b[39m\"\u001b[39;49m\u001b[39mt\u001b[39;49m\u001b[39m\"\u001b[39;49m, fmt\u001b[39m=\u001b[39;49m\u001b[39m\"\u001b[39;49m\u001b[39mGenBank\u001b[39;49m\u001b[39m\"\u001b[39;49m)\n",
      "File \u001b[0;32m~/.python/current/lib/python3.10/site-packages/Bio/SeqIO/Interfaces.py:45\u001b[0m, in \u001b[0;36mSequenceIterator.__init__\u001b[0;34m(self, source, alphabet, mode, fmt)\u001b[0m\n\u001b[1;32m     43\u001b[0m     \u001b[39mraise\u001b[39;00m \u001b[39mValueError\u001b[39;00m(\u001b[39m\"\u001b[39m\u001b[39mThe alphabet argument is no longer supported\u001b[39m\u001b[39m\"\u001b[39m)\n\u001b[1;32m     44\u001b[0m \u001b[39mtry\u001b[39;00m:\n\u001b[0;32m---> 45\u001b[0m     \u001b[39mself\u001b[39m\u001b[39m.\u001b[39mstream \u001b[39m=\u001b[39m \u001b[39mopen\u001b[39;49m(source, \u001b[39m\"\u001b[39;49m\u001b[39mr\u001b[39;49m\u001b[39m\"\u001b[39;49m \u001b[39m+\u001b[39;49m mode)\n\u001b[1;32m     46\u001b[0m     \u001b[39mself\u001b[39m\u001b[39m.\u001b[39mshould_close_stream \u001b[39m=\u001b[39m \u001b[39mTrue\u001b[39;00m\n\u001b[1;32m     47\u001b[0m \u001b[39mexcept\u001b[39;00m \u001b[39mTypeError\u001b[39;00m:  \u001b[39m# not a path, assume we received a stream\u001b[39;00m\n",
      "\u001b[0;31mFileNotFoundError\u001b[0m: [Errno 2] No such file or directory: 'gen1.gb'"
     ]
    }
   ],
   "source": [
    "record = SeqIO.read(\"gen1.gb\", \"genbank\")\n",
    "print(record)\n",
    "print(\"\\n\\nIdentificación de la secuencia:\",record.id)"
   ]
  }
 ],
 "metadata": {
  "kernelspec": {
   "display_name": "Python 3",
   "language": "python",
   "name": "python3"
  },
  "language_info": {
   "codemirror_mode": {
    "name": "ipython",
    "version": 3
   },
   "file_extension": ".py",
   "mimetype": "text/x-python",
   "name": "python",
   "nbconvert_exporter": "python",
   "pygments_lexer": "ipython3",
   "version": "3.10.4"
  },
  "orig_nbformat": 4
 },
 "nbformat": 4,
 "nbformat_minor": 2
}
